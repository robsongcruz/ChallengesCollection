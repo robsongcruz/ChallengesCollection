{
 "cells": [
  {
   "cell_type": "markdown",
   "metadata": {},
   "source": [
    "# Algoritmos de Ordenação"
   ]
  },
  {
   "cell_type": "code",
   "execution_count": 38,
   "metadata": {},
   "outputs": [],
   "source": [
    "from IPython.display import Image"
   ]
  },
  {
   "cell_type": "code",
   "execution_count": 39,
   "metadata": {},
   "outputs": [
    {
     "data": {
      "image/png": "[encoded data removed]",
      "text/plain": [
       "<IPython.core.display.Image object>"
      ]
     },
     "execution_count": 39,
     "metadata": {},
     "output_type": "execute_result"
    }
   ],
   "source": [
    "Image(\"complexity.png\")"
   ]
  },
  {
   "cell_type": "markdown",
   "metadata": {},
   "source": [
    "## 1. Selection Sort"
   ]
  },
  {
   "cell_type": "raw",
   "metadata": {},
   "source": [
    "- Descrição informal do algoritmo\n",
    "\n",
    "0. Marque a primeira posição da lista.\n",
    "1. Encontre o menor elemento (min) da lista iniciando na posição seguinte ao marcador até o final.\n",
    "2. Troque de posição o elemento min e a posição marcada.\n",
    "3. Avance a posição do marcador e refaça (1) e (2) até o marcador alcançar a penúltima posição."
   ]
  },
  {
   "cell_type": "code",
   "execution_count": 24,
   "metadata": {},
   "outputs": [],
   "source": [
    "# Implementação\n",
    "\n",
    "class SelectionSort(object):\n",
    "\n",
    "    def sort(self, data):\n",
    "        \n",
    "        for i in range(0, len(data)-1):\n",
    "\n",
    "            min_index = self.min_index(i + 1, data)\n",
    "            \n",
    "            if (data[min_index] < data[i]):\n",
    "                data[i], data[min_index] = data[min_index], data[i]\n",
    "\n",
    "        return data\n",
    "            \n",
    "    def min_index(self, index, data):\n",
    "        \n",
    "        min_index = index\n",
    "        \n",
    "        for i in range(index + 1, len(data)):\n",
    "            \n",
    "            if (data[i] < data[min_index]):\n",
    "                \n",
    "                min_index = i\n",
    "        \n",
    "        return min_index"
   ]
  },
  {
   "cell_type": "code",
   "execution_count": 10,
   "metadata": {},
   "outputs": [
    {
     "name": "stdout",
     "output_type": "stream",
     "text": [
      "[1, 2, 3, 4, 5]\n"
     ]
    }
   ],
   "source": [
    "sorter = SelectionSort()\n",
    "    \n",
    "print(sorter.sort([5, 4, 3, 2, 1]))"
   ]
  },
  {
   "cell_type": "markdown",
   "metadata": {},
   "source": [
    "## 2. Merge Sort"
   ]
  },
  {
   "cell_type": "raw",
   "metadata": {},
   "source": [
    "- Descrição informal\n",
    "1. Dividir o vetor em duas partes (mais ou menos) iguais.\n",
    "2. Continuar dividindo até a unidade.\n",
    "3. Ordenar cada parte dividida.\n",
    "4. Mesclar as partes divididas."
   ]
  },
  {
   "cell_type": "code",
   "execution_count": 98,
   "metadata": {},
   "outputs": [
    {
     "name": "stdout",
     "output_type": "stream",
     "text": [
      "[1, 2, 2, 3, 5]\n"
     ]
    }
   ],
   "source": [
    "# Implementação\n",
    "\n",
    "class MergeSort(object):\n",
    "    \n",
    "    def sort(self, data):\n",
    "        if len(data) <= 1:\n",
    "            return data\n",
    "        else:\n",
    "            \n",
    "            max_size = len(data)\n",
    "            \n",
    "            mid = int(max_size/2)\n",
    "            \n",
    "            data[:mid] = self.sort(data[:mid])\n",
    "            \n",
    "            data[mid:] = self.sort(data[mid:])\n",
    "            \n",
    "            i = 0\n",
    "            \n",
    "            j = mid\n",
    "            \n",
    "            while j < max_size:\n",
    "                \n",
    "                if data[i] >= data[j]:\n",
    "                \n",
    "                    les = data[j]\n",
    "                    data[i + 1: j + 1] = data[i : j]\n",
    "                    data[i] = les\n",
    "                    \n",
    "                    i = i + 1\n",
    "                    j = j + 1\n",
    "                else:\n",
    "                    i = i + 1\n",
    "            \n",
    "            return data\n",
    "\n",
    "sorter = MergeSort()\n",
    "                    \n",
    "print(sorter.sort([5, 2, 3, 2, 1]))"
   ]
  },
  {
   "cell_type": "code",
   "execution_count": null,
   "metadata": {},
   "outputs": [],
   "source": []
  },
  {
   "cell_type": "markdown",
   "metadata": {},
   "source": [
    "## 3. Insertion Sort"
   ]
  },
  {
   "cell_type": "raw",
   "metadata": {},
   "source": [
    "- Descrição informal\n",
    "OBS: Versão sem vetor auxiliar\n",
    "\n",
    "1. Escolher uma posição chave (para distribuir os valores em ordem)\n",
    "2. Comparar o valor de cada posição com o da posição chave\n",
    "3. Caso a posição corrente seja menor que da posição chave, procurar pela posição ONDE a inserir à esquerda da chave. Se menor, procurar à direita.\n",
    "4. Deslocar valores para abrir a poição e inserir o valor na ordem"
   ]
  },
  {
   "cell_type": "code",
   "execution_count": 37,
   "metadata": {},
   "outputs": [
    {
     "name": "stdout",
     "output_type": "stream",
     "text": [
      "[1, 2, 3, 4, 5]\n"
     ]
    }
   ],
   "source": [
    "# Implementação\n",
    "\n",
    "class InsertSort(object):\n",
    "    \n",
    "    def sort(self, data):\n",
    "        \n",
    "        max_size = len(data)\n",
    "        \n",
    "        key = 0\n",
    "        \n",
    "        for i in range(1, max_size):\n",
    "            \n",
    "            pivot = key\n",
    "            \n",
    "            if (data[i] < data[pivot]):\n",
    "                while (data[i] <= data[pivot]):\n",
    "                    if (pivot > 0):\n",
    "                        pivot = pivot - 1\n",
    "                    else:\n",
    "                        break\n",
    "            else:\n",
    "                while (data[i] > data[pivot]):\n",
    "                    if (pivot < max_size-1):\n",
    "                        pivot = pivot + 1\n",
    "                    else:\n",
    "                        break\n",
    "            \n",
    "            les = data[i]\n",
    "                    \n",
    "            data[pivot + 1: i + 1] = data[pivot: i]\n",
    "                \n",
    "            data[pivot] = les\n",
    "            \n",
    "        return data\n",
    "    \n",
    "sorter = InsertSort()\n",
    "                    \n",
    "print(sorter.sort([3, 2, 5, 4, 1]))"
   ]
  },
  {
   "cell_type": "code",
   "execution_count": null,
   "metadata": {},
   "outputs": [],
   "source": []
  },
  {
   "cell_type": "markdown",
   "metadata": {},
   "source": [
    "## 4. Quick Sort"
   ]
  },
  {
   "cell_type": "raw",
   "metadata": {},
   "source": [
    "- Descrição informal\n",
    "1. Escolher uma posição como referência\n",
    "2. Transferir valores maiores para a direita e os menores para a esquerda da referência\n",
    "3. Repetir (1) e (2) para os subvetores formados pela divisão do vetor na posição de referência"
   ]
  },
  {
   "cell_type": "code",
   "execution_count": 174,
   "metadata": {},
   "outputs": [
    {
     "name": "stdout",
     "output_type": "stream",
     "text": [
      "[1, 2, 3, 4, 5]\n"
     ]
    }
   ],
   "source": [
    "# Implementação\n",
    "\n",
    "class QuickSort(object):\n",
    "    \n",
    "    def sort(self, data):\n",
    "        \n",
    "        max_size = len(data)\n",
    "        \n",
    "        if (max_size > 1):\n",
    "        \n",
    "            pivot_index = int(max_size / 2) + (max_size % 2)\n",
    "            pivot = data[pivot_index]\n",
    "\n",
    "            i = 0\n",
    "\n",
    "            j = max_size - 1\n",
    "            \n",
    "            while (i <= j):\n",
    "\n",
    "                while (data[i] < pivot) and (i < max_size):\n",
    "                    i = i + 1\n",
    "\n",
    "                while (data[j] > pivot) and (j > 0):\n",
    "                    j = j - 1\n",
    "\n",
    "                if (i <= j):\n",
    "                    \n",
    "                    data[i], data[j] = data[j], data[i]\n",
    "\n",
    "                    i = i + 1\n",
    "                    j = j - 1\n",
    "            \n",
    "            if (j > 0):\n",
    "                data[:j+1] = self.sort(data[:j+1])\n",
    "                \n",
    "            if (i < max_size):\n",
    "                data[i:] = self.sort(data[i:])\n",
    "                  \n",
    "        return data\n",
    "\n",
    "    \n",
    "sorter = QuickSort()\n",
    "                    \n",
    "print(sorter.sort([3, 2, 5, 4, 1]))"
   ]
  },
  {
   "cell_type": "code",
   "execution_count": 6,
   "metadata": {},
   "outputs": [],
   "source": []
  },
  {
   "cell_type": "code",
   "execution_count": null,
   "metadata": {},
   "outputs": [],
   "source": []
  },
  {
   "cell_type": "code",
   "execution_count": null,
   "metadata": {},
   "outputs": [],
   "source": []
  }
 ],
 "metadata": {
  "kernelspec": {
   "display_name": "Python 3",
   "language": "python",
   "name": "python3"
  },
  "language_info": {
   "codemirror_mode": {
    "name": "ipython",
    "version": 3
   },
   "file_extension": ".py",
   "mimetype": "text/x-python",
   "name": "python",
   "nbconvert_exporter": "python",
   "pygments_lexer": "ipython3",
   "version": "3.7.4"
  }
 },
 "nbformat": 4,
 "nbformat_minor": 2
}
